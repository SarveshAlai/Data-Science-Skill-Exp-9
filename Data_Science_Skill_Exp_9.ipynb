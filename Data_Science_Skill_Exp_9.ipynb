{
  "nbformat": 4,
  "nbformat_minor": 0,
  "metadata": {
    "colab": {
      "provenance": []
    },
    "kernelspec": {
      "name": "python3",
      "display_name": "Python 3"
    },
    "language_info": {
      "name": "python"
    }
  },
  "cells": [
    {
      "cell_type": "code",
      "execution_count": 1,
      "metadata": {
        "colab": {
          "base_uri": "https://localhost:8080/"
        },
        "id": "qL4p9PbTBQlM",
        "outputId": "79ea6b55-d36c-467b-e757-891f821133d8"
      },
      "outputs": [
        {
          "output_type": "stream",
          "name": "stdout",
          "text": [
            "Selected Features using Forward Selection: ['volatile acidity', 'citric acid', 'free sulfur dioxide', 'density', 'sulphates']\n"
          ]
        }
      ],
      "source": [
        "import pandas as pd\n",
        "from sklearn.ensemble import RandomForestClassifier\n",
        "from sklearn.model_selection import train_test_split\n",
        "from mlxtend.feature_selection import SequentialFeatureSelector as SFS\n",
        "\n",
        "url = \"/content/winequality-red[1].csv\"\n",
        "df = pd.read_csv(url, delimiter=';')\n",
        "\n",
        "df['quality_category'] = (df['quality'] >= 7).astype(int)\n",
        "\n",
        "X = df.drop(columns=['quality', 'quality_category'])\n",
        "y = df['quality_category']\n",
        "\n",
        "X_train, X_test, y_train, y_test = train_test_split(X, y, test_size=0.2, random_state=42)\n",
        "\n",
        "rf_model = RandomForestClassifier(n_estimators=100, random_state=42)\n",
        "\n",
        "sfs = SFS(rf_model,\n",
        "          k_features=5,\n",
        "          forward=True,\n",
        "          floating=False,\n",
        "          scoring='accuracy',\n",
        "          cv=5)\n",
        "\n",
        "sfs.fit(X_train, y_train)\n",
        "\n",
        "selected_features_sfs = list(sfs.k_feature_names_)\n",
        "print(\"Selected Features using Forward Selection:\", selected_features_sfs)"
      ]
    }
  ]
}